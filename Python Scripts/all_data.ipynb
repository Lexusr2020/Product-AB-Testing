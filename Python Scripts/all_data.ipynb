{
 "cells": [
  {
   "attachments": {},
   "cell_type": "markdown",
   "metadata": {},
   "source": [
    "# Table of Content"
   ]
  },
  {
   "attachments": {},
   "cell_type": "markdown",
   "metadata": {},
   "source": [
    "<a id='top'></a>\n",
    "\n",
    "1. [Create DataFrame](#df)\n",
    "2. [Cleaning](#cleaning)\n",
    "3. [Users & Groups](#individual_stats)\n",
    "4. [Purchases](#purchase_stats)\n",
    "5. [Same Day Purchases](#same_day_purchase_stats)\n",
    "6. [Stat Summary](#summary)\n",
    "7. [Visuals](#visuals)\n",
    "8. [Group Visuals](#group_visuals)\n",
    "            "
   ]
  },
  {
   "cell_type": "code",
   "execution_count": 1,
   "metadata": {},
   "outputs": [],
   "source": [
    "import pandas as pd\n",
    "import numpy as np\n",
    "import matplotlib.pyplot as plt\n",
    "import seaborn as sns\n",
    "from statsmodels.stats.weightstats import DescrStatsW, CompareMeans, ttest_ind\n",
    "from scipy.stats import ttest_ind\n",
    "import numpy as np\n",
    "import random\n",
    "\n",
    "sns.set(style='darkgrid')"
   ]
  },
  {
   "attachments": {},
   "cell_type": "markdown",
   "metadata": {},
   "source": [
    "# DataFrame\n",
    "<a id='df'></a>"
   ]
  },
  {
   "cell_type": "code",
   "execution_count": 2,
   "metadata": {},
   "outputs": [
    {
     "data": {
      "text/html": [
       "<div>\n",
       "<style scoped>\n",
       "    .dataframe tbody tr th:only-of-type {\n",
       "        vertical-align: middle;\n",
       "    }\n",
       "\n",
       "    .dataframe tbody tr th {\n",
       "        vertical-align: top;\n",
       "    }\n",
       "\n",
       "    .dataframe thead th {\n",
       "        text-align: right;\n",
       "    }\n",
       "</style>\n",
       "<table border=\"1\" class=\"dataframe\">\n",
       "  <thead>\n",
       "    <tr style=\"text-align: right;\">\n",
       "      <th></th>\n",
       "      <th>id</th>\n",
       "      <th>country</th>\n",
       "      <th>gender</th>\n",
       "      <th>uid</th>\n",
       "      <th>group</th>\n",
       "      <th>join_dt</th>\n",
       "      <th>device</th>\n",
       "      <th>uid-2</th>\n",
       "      <th>dt</th>\n",
       "      <th>device-2</th>\n",
       "      <th>spent</th>\n",
       "    </tr>\n",
       "  </thead>\n",
       "  <tbody>\n",
       "    <tr>\n",
       "      <th>0</th>\n",
       "      <td>1000000</td>\n",
       "      <td>CAN</td>\n",
       "      <td>M</td>\n",
       "      <td>1000000</td>\n",
       "      <td>B</td>\n",
       "      <td>2023-01-28</td>\n",
       "      <td>I</td>\n",
       "      <td>NaN</td>\n",
       "      <td>NaN</td>\n",
       "      <td>NaN</td>\n",
       "      <td>NaN</td>\n",
       "    </tr>\n",
       "    <tr>\n",
       "      <th>1</th>\n",
       "      <td>1000001</td>\n",
       "      <td>BRA</td>\n",
       "      <td>M</td>\n",
       "      <td>1000001</td>\n",
       "      <td>A</td>\n",
       "      <td>2023-01-27</td>\n",
       "      <td>A</td>\n",
       "      <td>NaN</td>\n",
       "      <td>NaN</td>\n",
       "      <td>NaN</td>\n",
       "      <td>NaN</td>\n",
       "    </tr>\n",
       "    <tr>\n",
       "      <th>2</th>\n",
       "      <td>1000002</td>\n",
       "      <td>FRA</td>\n",
       "      <td>M</td>\n",
       "      <td>1000002</td>\n",
       "      <td>A</td>\n",
       "      <td>2023-02-01</td>\n",
       "      <td>A</td>\n",
       "      <td>NaN</td>\n",
       "      <td>NaN</td>\n",
       "      <td>NaN</td>\n",
       "      <td>NaN</td>\n",
       "    </tr>\n",
       "    <tr>\n",
       "      <th>3</th>\n",
       "      <td>1000003</td>\n",
       "      <td>BRA</td>\n",
       "      <td>M</td>\n",
       "      <td>1000003</td>\n",
       "      <td>B</td>\n",
       "      <td>2023-01-25</td>\n",
       "      <td>I</td>\n",
       "      <td>NaN</td>\n",
       "      <td>NaN</td>\n",
       "      <td>NaN</td>\n",
       "      <td>NaN</td>\n",
       "    </tr>\n",
       "    <tr>\n",
       "      <th>4</th>\n",
       "      <td>1000004</td>\n",
       "      <td>DEU</td>\n",
       "      <td>F</td>\n",
       "      <td>1000004</td>\n",
       "      <td>A</td>\n",
       "      <td>2023-02-04</td>\n",
       "      <td>A</td>\n",
       "      <td>NaN</td>\n",
       "      <td>NaN</td>\n",
       "      <td>NaN</td>\n",
       "      <td>NaN</td>\n",
       "    </tr>\n",
       "  </tbody>\n",
       "</table>\n",
       "</div>"
      ],
      "text/plain": [
       "        id country gender      uid group     join_dt device  uid-2   dt  \\\n",
       "0  1000000     CAN      M  1000000     B  2023-01-28      I    NaN  NaN   \n",
       "1  1000001     BRA      M  1000001     A  2023-01-27      A    NaN  NaN   \n",
       "2  1000002     FRA      M  1000002     A  2023-02-01      A    NaN  NaN   \n",
       "3  1000003     BRA      M  1000003     B  2023-01-25      I    NaN  NaN   \n",
       "4  1000004     DEU      F  1000004     A  2023-02-04      A    NaN  NaN   \n",
       "\n",
       "  device-2  spent  \n",
       "0      NaN    NaN  \n",
       "1      NaN    NaN  \n",
       "2      NaN    NaN  \n",
       "3      NaN    NaN  \n",
       "4      NaN    NaN  "
      ]
     },
     "execution_count": 2,
     "metadata": {},
     "output_type": "execute_result"
    }
   ],
   "source": [
    "all_data = pd.read_csv('./datasets/all_data_merged.csv')\n",
    "all_data.head()"
   ]
  },
  {
   "attachments": {},
   "cell_type": "markdown",
   "metadata": {},
   "source": [
    "# Cleaning Data\n",
    "\n",
    "<a id='cleaning'></a>"
   ]
  },
  {
   "attachments": {},
   "cell_type": "markdown",
   "metadata": {},
   "source": [
    "### Change Columns dt and join_dt to date type"
   ]
  },
  {
   "cell_type": "code",
   "execution_count": 3,
   "metadata": {},
   "outputs": [],
   "source": [
    "all_data['purchase_date'] = pd.to_datetime(all_data['dt'])\n",
    "all_data['joined_date'] = pd.to_datetime(all_data['join_dt'])"
   ]
  },
  {
   "attachments": {},
   "cell_type": "markdown",
   "metadata": {},
   "source": [
    "## Rearrange columns and rename values"
   ]
  },
  {
   "cell_type": "code",
   "execution_count": 4,
   "metadata": {},
   "outputs": [],
   "source": [
    "all_data = all_data.drop(columns=['uid', 'join_dt', 'uid-2', 'dt', 'device-2'])\n",
    "\n",
    "all_data = all_data.reindex(columns=['id', 'joined_date', 'group', 'gender', 'country', 'device', 'purchase_date','spent'])"
   ]
  },
  {
   "cell_type": "code",
   "execution_count": 5,
   "metadata": {},
   "outputs": [],
   "source": [
    "def replace_group(group):\n",
    "    if group == 'A':\n",
    "        return 'Control_Group'\n",
    "    elif group == 'B':\n",
    "        return 'Test_Group'\n",
    "    else:\n",
    "        return group\n",
    "    \n",
    "all_data['group'] = all_data['group'].apply(replace_group)"
   ]
  },
  {
   "cell_type": "code",
   "execution_count": 6,
   "metadata": {},
   "outputs": [],
   "source": [
    "def replace_device_name(device):\n",
    "    if device == 'I':\n",
    "        return 'iOS'\n",
    "    elif device == 'A':\n",
    "        return 'Android'\n",
    "    else:\n",
    "        return device\n",
    "    \n",
    "all_data['device'] = all_data['device'].apply(replace_device_name)"
   ]
  },
  {
   "attachments": {},
   "cell_type": "markdown",
   "metadata": {},
   "source": [
    "## Create purchase status column for those who made a purchase"
   ]
  },
  {
   "cell_type": "code",
   "execution_count": 7,
   "metadata": {},
   "outputs": [],
   "source": [
    "all_data['purchase_status'] = np.where(all_data['purchase_date'].isnull(), 0, 1)"
   ]
  },
  {
   "cell_type": "code",
   "execution_count": 8,
   "metadata": {},
   "outputs": [
    {
     "data": {
      "text/html": [
       "<div>\n",
       "<style scoped>\n",
       "    .dataframe tbody tr th:only-of-type {\n",
       "        vertical-align: middle;\n",
       "    }\n",
       "\n",
       "    .dataframe tbody tr th {\n",
       "        vertical-align: top;\n",
       "    }\n",
       "\n",
       "    .dataframe thead th {\n",
       "        text-align: right;\n",
       "    }\n",
       "</style>\n",
       "<table border=\"1\" class=\"dataframe\">\n",
       "  <thead>\n",
       "    <tr style=\"text-align: right;\">\n",
       "      <th></th>\n",
       "      <th>id</th>\n",
       "      <th>joined_date</th>\n",
       "      <th>group</th>\n",
       "      <th>gender</th>\n",
       "      <th>country</th>\n",
       "      <th>device</th>\n",
       "      <th>purchase_date</th>\n",
       "      <th>spent</th>\n",
       "      <th>purchase_status</th>\n",
       "    </tr>\n",
       "  </thead>\n",
       "  <tbody>\n",
       "    <tr>\n",
       "      <th>0</th>\n",
       "      <td>1000000</td>\n",
       "      <td>2023-01-28</td>\n",
       "      <td>Test_Group</td>\n",
       "      <td>M</td>\n",
       "      <td>CAN</td>\n",
       "      <td>iOS</td>\n",
       "      <td>NaT</td>\n",
       "      <td>NaN</td>\n",
       "      <td>0</td>\n",
       "    </tr>\n",
       "    <tr>\n",
       "      <th>1</th>\n",
       "      <td>1000001</td>\n",
       "      <td>2023-01-27</td>\n",
       "      <td>Control_Group</td>\n",
       "      <td>M</td>\n",
       "      <td>BRA</td>\n",
       "      <td>Android</td>\n",
       "      <td>NaT</td>\n",
       "      <td>NaN</td>\n",
       "      <td>0</td>\n",
       "    </tr>\n",
       "    <tr>\n",
       "      <th>2</th>\n",
       "      <td>1000002</td>\n",
       "      <td>2023-02-01</td>\n",
       "      <td>Control_Group</td>\n",
       "      <td>M</td>\n",
       "      <td>FRA</td>\n",
       "      <td>Android</td>\n",
       "      <td>NaT</td>\n",
       "      <td>NaN</td>\n",
       "      <td>0</td>\n",
       "    </tr>\n",
       "    <tr>\n",
       "      <th>3</th>\n",
       "      <td>1000003</td>\n",
       "      <td>2023-01-25</td>\n",
       "      <td>Test_Group</td>\n",
       "      <td>M</td>\n",
       "      <td>BRA</td>\n",
       "      <td>iOS</td>\n",
       "      <td>NaT</td>\n",
       "      <td>NaN</td>\n",
       "      <td>0</td>\n",
       "    </tr>\n",
       "    <tr>\n",
       "      <th>4</th>\n",
       "      <td>1000004</td>\n",
       "      <td>2023-02-04</td>\n",
       "      <td>Control_Group</td>\n",
       "      <td>F</td>\n",
       "      <td>DEU</td>\n",
       "      <td>Android</td>\n",
       "      <td>NaT</td>\n",
       "      <td>NaN</td>\n",
       "      <td>0</td>\n",
       "    </tr>\n",
       "  </tbody>\n",
       "</table>\n",
       "</div>"
      ],
      "text/plain": [
       "        id joined_date          group gender country   device purchase_date  \\\n",
       "0  1000000  2023-01-28     Test_Group      M     CAN      iOS           NaT   \n",
       "1  1000001  2023-01-27  Control_Group      M     BRA  Android           NaT   \n",
       "2  1000002  2023-02-01  Control_Group      M     FRA  Android           NaT   \n",
       "3  1000003  2023-01-25     Test_Group      M     BRA      iOS           NaT   \n",
       "4  1000004  2023-02-04  Control_Group      F     DEU  Android           NaT   \n",
       "\n",
       "   spent  purchase_status  \n",
       "0    NaN                0  \n",
       "1    NaN                0  \n",
       "2    NaN                0  \n",
       "3    NaN                0  \n",
       "4    NaN                0  "
      ]
     },
     "execution_count": 8,
     "metadata": {},
     "output_type": "execute_result"
    }
   ],
   "source": [
    "all_data.head()"
   ]
  },
  {
   "attachments": {},
   "cell_type": "markdown",
   "metadata": {},
   "source": [
    "[Back to top](#top)"
   ]
  },
  {
   "attachments": {},
   "cell_type": "markdown",
   "metadata": {},
   "source": [
    "# Users & Groups\n",
    "\n",
    "### To view summary stats please click here: [Summary Stats](#summary)\n",
    "\n",
    "<a id='individual_stats'></a>"
   ]
  },
  {
   "attachments": {},
   "cell_type": "markdown",
   "metadata": {},
   "source": [
    "### Users"
   ]
  },
  {
   "cell_type": "code",
   "execution_count": 9,
   "metadata": {},
   "outputs": [],
   "source": [
    "total_unique_users = all_data['id'].nunique()"
   ]
  },
  {
   "cell_type": "code",
   "execution_count": 10,
   "metadata": {},
   "outputs": [],
   "source": [
    "all_data['duplicates'] = all_data.duplicated(subset=['id'], keep=False)\n",
    "duplicates = all_data[all_data['duplicates'] == True]['id'].nunique()"
   ]
  },
  {
   "attachments": {},
   "cell_type": "markdown",
   "metadata": {},
   "source": [
    "### Groups"
   ]
  },
  {
   "cell_type": "code",
   "execution_count": 11,
   "metadata": {},
   "outputs": [],
   "source": [
    "control_group = all_data[all_data['group'] == 'Control_Group']"
   ]
  },
  {
   "cell_type": "code",
   "execution_count": 12,
   "metadata": {},
   "outputs": [],
   "source": [
    "num_unique_users_control_group = control_group['id'].nunique()"
   ]
  },
  {
   "cell_type": "code",
   "execution_count": 13,
   "metadata": {},
   "outputs": [],
   "source": [
    "test_group = all_data[all_data['group'] == 'Test_Group']"
   ]
  },
  {
   "cell_type": "code",
   "execution_count": 14,
   "metadata": {},
   "outputs": [],
   "source": [
    "num_unique_users_test_group = test_group['id'].nunique()"
   ]
  },
  {
   "attachments": {},
   "cell_type": "markdown",
   "metadata": {},
   "source": [
    "[Back to top](#top)"
   ]
  },
  {
   "cell_type": "code",
   "execution_count": 15,
   "metadata": {},
   "outputs": [
    {
     "data": {
      "text/html": [
       "<div>\n",
       "<style scoped>\n",
       "    .dataframe tbody tr th:only-of-type {\n",
       "        vertical-align: middle;\n",
       "    }\n",
       "\n",
       "    .dataframe tbody tr th {\n",
       "        vertical-align: top;\n",
       "    }\n",
       "\n",
       "    .dataframe thead th {\n",
       "        text-align: right;\n",
       "    }\n",
       "</style>\n",
       "<table border=\"1\" class=\"dataframe\">\n",
       "  <thead>\n",
       "    <tr style=\"text-align: right;\">\n",
       "      <th></th>\n",
       "      <th>id</th>\n",
       "      <th>joined_date</th>\n",
       "      <th>group</th>\n",
       "      <th>gender</th>\n",
       "      <th>country</th>\n",
       "      <th>device</th>\n",
       "      <th>purchase_date</th>\n",
       "      <th>spent</th>\n",
       "      <th>purchase_status</th>\n",
       "      <th>duplicates</th>\n",
       "    </tr>\n",
       "  </thead>\n",
       "  <tbody>\n",
       "    <tr>\n",
       "      <th>1</th>\n",
       "      <td>1000001</td>\n",
       "      <td>2023-01-27</td>\n",
       "      <td>Control_Group</td>\n",
       "      <td>M</td>\n",
       "      <td>BRA</td>\n",
       "      <td>Android</td>\n",
       "      <td>NaT</td>\n",
       "      <td>NaN</td>\n",
       "      <td>0</td>\n",
       "      <td>False</td>\n",
       "    </tr>\n",
       "    <tr>\n",
       "      <th>2</th>\n",
       "      <td>1000002</td>\n",
       "      <td>2023-02-01</td>\n",
       "      <td>Control_Group</td>\n",
       "      <td>M</td>\n",
       "      <td>FRA</td>\n",
       "      <td>Android</td>\n",
       "      <td>NaT</td>\n",
       "      <td>NaN</td>\n",
       "      <td>0</td>\n",
       "      <td>False</td>\n",
       "    </tr>\n",
       "    <tr>\n",
       "      <th>4</th>\n",
       "      <td>1000004</td>\n",
       "      <td>2023-02-04</td>\n",
       "      <td>Control_Group</td>\n",
       "      <td>F</td>\n",
       "      <td>DEU</td>\n",
       "      <td>Android</td>\n",
       "      <td>NaT</td>\n",
       "      <td>NaN</td>\n",
       "      <td>0</td>\n",
       "      <td>False</td>\n",
       "    </tr>\n",
       "    <tr>\n",
       "      <th>7</th>\n",
       "      <td>1000007</td>\n",
       "      <td>2023-01-25</td>\n",
       "      <td>Control_Group</td>\n",
       "      <td>F</td>\n",
       "      <td>BRA</td>\n",
       "      <td>Android</td>\n",
       "      <td>NaT</td>\n",
       "      <td>NaN</td>\n",
       "      <td>0</td>\n",
       "      <td>False</td>\n",
       "    </tr>\n",
       "    <tr>\n",
       "      <th>8</th>\n",
       "      <td>1000008</td>\n",
       "      <td>2023-02-05</td>\n",
       "      <td>Control_Group</td>\n",
       "      <td>F</td>\n",
       "      <td>BRA</td>\n",
       "      <td>Android</td>\n",
       "      <td>NaT</td>\n",
       "      <td>NaN</td>\n",
       "      <td>0</td>\n",
       "      <td>False</td>\n",
       "    </tr>\n",
       "    <tr>\n",
       "      <th>...</th>\n",
       "      <td>...</td>\n",
       "      <td>...</td>\n",
       "      <td>...</td>\n",
       "      <td>...</td>\n",
       "      <td>...</td>\n",
       "      <td>...</td>\n",
       "      <td>...</td>\n",
       "      <td>...</td>\n",
       "      <td>...</td>\n",
       "      <td>...</td>\n",
       "    </tr>\n",
       "    <tr>\n",
       "      <th>49069</th>\n",
       "      <td>1049987</td>\n",
       "      <td>2023-01-26</td>\n",
       "      <td>Control_Group</td>\n",
       "      <td>M</td>\n",
       "      <td>BRA</td>\n",
       "      <td>iOS</td>\n",
       "      <td>NaT</td>\n",
       "      <td>NaN</td>\n",
       "      <td>0</td>\n",
       "      <td>False</td>\n",
       "    </tr>\n",
       "    <tr>\n",
       "      <th>49071</th>\n",
       "      <td>1049989</td>\n",
       "      <td>2023-01-25</td>\n",
       "      <td>Control_Group</td>\n",
       "      <td>M</td>\n",
       "      <td>MEX</td>\n",
       "      <td>iOS</td>\n",
       "      <td>NaT</td>\n",
       "      <td>NaN</td>\n",
       "      <td>0</td>\n",
       "      <td>False</td>\n",
       "    </tr>\n",
       "    <tr>\n",
       "      <th>49075</th>\n",
       "      <td>1049993</td>\n",
       "      <td>2023-01-25</td>\n",
       "      <td>Control_Group</td>\n",
       "      <td>M</td>\n",
       "      <td>USA</td>\n",
       "      <td>Android</td>\n",
       "      <td>NaT</td>\n",
       "      <td>NaN</td>\n",
       "      <td>0</td>\n",
       "      <td>False</td>\n",
       "    </tr>\n",
       "    <tr>\n",
       "      <th>49076</th>\n",
       "      <td>1049994</td>\n",
       "      <td>2023-01-25</td>\n",
       "      <td>Control_Group</td>\n",
       "      <td>F</td>\n",
       "      <td>USA</td>\n",
       "      <td>Android</td>\n",
       "      <td>NaT</td>\n",
       "      <td>NaN</td>\n",
       "      <td>0</td>\n",
       "      <td>False</td>\n",
       "    </tr>\n",
       "    <tr>\n",
       "      <th>49078</th>\n",
       "      <td>1049996</td>\n",
       "      <td>2023-01-29</td>\n",
       "      <td>Control_Group</td>\n",
       "      <td>F</td>\n",
       "      <td>USA</td>\n",
       "      <td>Android</td>\n",
       "      <td>NaT</td>\n",
       "      <td>NaN</td>\n",
       "      <td>0</td>\n",
       "      <td>False</td>\n",
       "    </tr>\n",
       "  </tbody>\n",
       "</table>\n",
       "<p>24402 rows × 10 columns</p>\n",
       "</div>"
      ],
      "text/plain": [
       "            id joined_date          group gender country   device  \\\n",
       "1      1000001  2023-01-27  Control_Group      M     BRA  Android   \n",
       "2      1000002  2023-02-01  Control_Group      M     FRA  Android   \n",
       "4      1000004  2023-02-04  Control_Group      F     DEU  Android   \n",
       "7      1000007  2023-01-25  Control_Group      F     BRA  Android   \n",
       "8      1000008  2023-02-05  Control_Group      F     BRA  Android   \n",
       "...        ...         ...            ...    ...     ...      ...   \n",
       "49069  1049987  2023-01-26  Control_Group      M     BRA      iOS   \n",
       "49071  1049989  2023-01-25  Control_Group      M     MEX      iOS   \n",
       "49075  1049993  2023-01-25  Control_Group      M     USA  Android   \n",
       "49076  1049994  2023-01-25  Control_Group      F     USA  Android   \n",
       "49078  1049996  2023-01-29  Control_Group      F     USA  Android   \n",
       "\n",
       "      purchase_date  spent  purchase_status  duplicates  \n",
       "1               NaT    NaN                0       False  \n",
       "2               NaT    NaN                0       False  \n",
       "4               NaT    NaN                0       False  \n",
       "7               NaT    NaN                0       False  \n",
       "8               NaT    NaN                0       False  \n",
       "...             ...    ...              ...         ...  \n",
       "49069           NaT    NaN                0       False  \n",
       "49071           NaT    NaN                0       False  \n",
       "49075           NaT    NaN                0       False  \n",
       "49076           NaT    NaN                0       False  \n",
       "49078           NaT    NaN                0       False  \n",
       "\n",
       "[24402 rows x 10 columns]"
      ]
     },
     "execution_count": 15,
     "metadata": {},
     "output_type": "execute_result"
    }
   ],
   "source": [
    "control_group"
   ]
  },
  {
   "attachments": {},
   "cell_type": "markdown",
   "metadata": {},
   "source": [
    "# Purchases \n",
    "\n",
    "<a id='purchase_stats'></a>"
   ]
  },
  {
   "cell_type": "code",
   "execution_count": 16,
   "metadata": {},
   "outputs": [],
   "source": [
    "user_purchased = all_data[all_data['purchase_status'] != 0]\n",
    "user_purchased_by_id = user_purchased.groupby('id')['purchase_status'].sum()\n",
    "user_purchased_by_id = user_purchased_by_id.sort_values(ascending=False).reset_index()\n",
    "num_users_who_purchased = user_purchased_by_id['id'].nunique()"
   ]
  },
  {
   "cell_type": "code",
   "execution_count": 17,
   "metadata": {},
   "outputs": [],
   "source": [
    "total_purchases = all_data[all_data['purchase_status'] != 0]\n",
    "total_purchases = total_purchases['purchase_status'].count()"
   ]
  },
  {
   "cell_type": "code",
   "execution_count": 18,
   "metadata": {},
   "outputs": [],
   "source": [
    "non_purchased = all_data[all_data['purchase_status'] == 0]['purchase_status'].count()"
   ]
  },
  {
   "cell_type": "code",
   "execution_count": 19,
   "metadata": {},
   "outputs": [],
   "source": [
    "control_group_unique_users = control_group[control_group['purchase_status'] == 1]\n",
    "control_group_unique_users = control_group_unique_users['id'].nunique()"
   ]
  },
  {
   "cell_type": "code",
   "execution_count": 20,
   "metadata": {},
   "outputs": [],
   "source": [
    "test_group_num_unique_users = test_group[test_group['purchase_status'] == 1]\n",
    "test_group_num_unique_users = test_group_num_unique_users['id'].nunique()"
   ]
  },
  {
   "cell_type": "code",
   "execution_count": 21,
   "metadata": {},
   "outputs": [],
   "source": [
    "control_and_test_group_unique_users = test_group_num_unique_users + control_group_unique_users"
   ]
  },
  {
   "cell_type": "code",
   "execution_count": 22,
   "metadata": {},
   "outputs": [],
   "source": [
    "total_purchases_control_group = control_group['purchase_status'].sum()"
   ]
  },
  {
   "cell_type": "code",
   "execution_count": 23,
   "metadata": {},
   "outputs": [],
   "source": [
    "total_purchases_test_group = test_group['purchase_status'].sum()"
   ]
  },
  {
   "cell_type": "code",
   "execution_count": 24,
   "metadata": {},
   "outputs": [],
   "source": [
    "total_not_same_day_purchase = all_data[(all_data['joined_date'] != all_data['purchase_date']) & (all_data['purchase_status'] == 1)].reset_index()\n",
    "total_not_same_day_purchase = total_not_same_day_purchase['id'].count()"
   ]
  },
  {
   "cell_type": "code",
   "execution_count": 25,
   "metadata": {},
   "outputs": [],
   "source": [
    "total_not_same_day_purchase_unique_id = all_data[(all_data['joined_date'] != all_data['purchase_date']) & (all_data['purchase_status'] == 1)].reset_index()\n",
    "total_not_same_day_purchase_unique_id = total_not_same_day_purchase_unique_id['id'].nunique()"
   ]
  },
  {
   "cell_type": "code",
   "execution_count": 26,
   "metadata": {},
   "outputs": [],
   "source": [
    "not_same_day_unique_id_multiple_purchase = total_not_same_day_purchase - total_not_same_day_purchase_unique_id"
   ]
  },
  {
   "attachments": {},
   "cell_type": "markdown",
   "metadata": {},
   "source": [
    "# Same Day Purchases\n",
    "\n",
    "<a id='same_day_purchase_stats'></a>\n",
    "\n"
   ]
  },
  {
   "cell_type": "code",
   "execution_count": 27,
   "metadata": {},
   "outputs": [],
   "source": [
    "num_users_who_purchased_one = user_purchased_by_id[user_purchased_by_id['purchase_status'] == 1]\n",
    "num_users_who_purchased_one = num_users_who_purchased_one['id'].nunique()"
   ]
  },
  {
   "cell_type": "code",
   "execution_count": 28,
   "metadata": {},
   "outputs": [],
   "source": [
    "num_users_who_purchased_multiple = user_purchased_by_id[user_purchased_by_id['purchase_status'] > 1]\n",
    "num_users_who_purchased_twice = num_users_who_purchased_multiple['id'].nunique()"
   ]
  },
  {
   "cell_type": "code",
   "execution_count": 29,
   "metadata": {},
   "outputs": [],
   "source": [
    "same_day_purchases = all_data[all_data['joined_date'] == all_data['purchase_date']].reset_index()\n",
    "same_day_purchases = same_day_purchases['purchase_status'].count()"
   ]
  },
  {
   "cell_type": "code",
   "execution_count": 30,
   "metadata": {},
   "outputs": [],
   "source": [
    "control_same_day_purchase = control_group[control_group['joined_date'] == control_group['purchase_date']].reset_index()\n",
    "control_same_day_purchase = control_same_day_purchase['purchase_status'].sum()"
   ]
  },
  {
   "cell_type": "code",
   "execution_count": 31,
   "metadata": {},
   "outputs": [],
   "source": [
    "test_same_day_purchase = test_group[test_group['joined_date'] == test_group['purchase_date']].reset_index()\n",
    "test_same_day_purchase = test_same_day_purchase['purchase_status'].sum()"
   ]
  },
  {
   "attachments": {},
   "cell_type": "markdown",
   "metadata": {},
   "source": [
    "# Purchases by Group"
   ]
  },
  {
   "attachments": {},
   "cell_type": "markdown",
   "metadata": {},
   "source": [
    "## Control Group"
   ]
  },
  {
   "cell_type": "code",
   "execution_count": 32,
   "metadata": {},
   "outputs": [],
   "source": [
    "control_group_purchased = control_group[control_group['purchase_status'] == 1]"
   ]
  },
  {
   "cell_type": "code",
   "execution_count": 33,
   "metadata": {},
   "outputs": [
    {
     "data": {
      "text/plain": [
       "1014"
      ]
     },
     "execution_count": 33,
     "metadata": {},
     "output_type": "execute_result"
    }
   ],
   "source": [
    "control_total_num_purchases = control_group[control_group['purchase_status'] == 1]['purchase_status'].sum()\n",
    "control_total_num_purchases"
   ]
  },
  {
   "cell_type": "code",
   "execution_count": 34,
   "metadata": {},
   "outputs": [
    {
     "data": {
      "text/plain": [
       "24343"
      ]
     },
     "execution_count": 34,
     "metadata": {},
     "output_type": "execute_result"
    }
   ],
   "source": [
    "control_group_unique_users = all_data[all_data['group'] == 'Control_Group']['id'].nunique()\n",
    "control_group_unique_users"
   ]
  },
  {
   "cell_type": "code",
   "execution_count": 35,
   "metadata": {},
   "outputs": [
    {
     "data": {
      "text/plain": [
       "955"
      ]
     },
     "execution_count": 35,
     "metadata": {},
     "output_type": "execute_result"
    }
   ],
   "source": [
    "control_group_unique_purchases = control_group[control_group['purchase_status'] == 1]['id'].nunique()\n",
    "control_group_unique_purchases"
   ]
  },
  {
   "cell_type": "code",
   "execution_count": 36,
   "metadata": {},
   "outputs": [
    {
     "data": {
      "text/plain": [
       "3.9230990428459926"
      ]
     },
     "execution_count": 36,
     "metadata": {},
     "output_type": "execute_result"
    }
   ],
   "source": [
    "control_cr = (control_group_unique_purchases / control_group_unique_users) * 100\n",
    "control_cr"
   ]
  },
  {
   "cell_type": "code",
   "execution_count": 37,
   "metadata": {},
   "outputs": [],
   "source": [
    "control_total_spent = control_group['spent'].sum()"
   ]
  },
  {
   "cell_type": "code",
   "execution_count": 38,
   "metadata": {},
   "outputs": [
    {
     "data": {
      "text/plain": [
       "81.01173872267435"
      ]
     },
     "execution_count": 38,
     "metadata": {},
     "output_type": "execute_result"
    }
   ],
   "source": [
    "control_average_spent = control_group['spent'].mean()\n",
    "control_average_spent"
   ]
  },
  {
   "cell_type": "code",
   "execution_count": 39,
   "metadata": {},
   "outputs": [
    {
     "name": "stdout",
     "output_type": "stream",
     "text": [
      "$3.375\n"
     ]
    }
   ],
   "source": [
    "control_spent_per_user = control_total_spent / num_unique_users_control_group\n",
    "print('${:.3f}'.format(control_spent_per_user))"
   ]
  },
  {
   "attachments": {},
   "cell_type": "markdown",
   "metadata": {},
   "source": [
    "## Test Group"
   ]
  },
  {
   "cell_type": "code",
   "execution_count": 40,
   "metadata": {},
   "outputs": [],
   "source": [
    "test_group_purchased = test_group[test_group['purchase_status'] == 1]"
   ]
  },
  {
   "cell_type": "code",
   "execution_count": 41,
   "metadata": {},
   "outputs": [
    {
     "data": {
      "text/plain": [
       "1219"
      ]
     },
     "execution_count": 41,
     "metadata": {},
     "output_type": "execute_result"
    }
   ],
   "source": [
    "test_total_num_purchases = test_group[test_group['purchase_status'] == 1]['purchase_status'].sum()\n",
    "test_total_num_purchases"
   ]
  },
  {
   "cell_type": "code",
   "execution_count": 42,
   "metadata": {},
   "outputs": [
    {
     "data": {
      "text/plain": [
       "24600"
      ]
     },
     "execution_count": 42,
     "metadata": {},
     "output_type": "execute_result"
    }
   ],
   "source": [
    "test_group_unique_users = all_data[all_data['group'] == 'Test_Group']['id'].nunique()\n",
    "test_group_unique_users"
   ]
  },
  {
   "cell_type": "code",
   "execution_count": 43,
   "metadata": {},
   "outputs": [
    {
     "data": {
      "text/plain": [
       "1139"
      ]
     },
     "execution_count": 43,
     "metadata": {},
     "output_type": "execute_result"
    }
   ],
   "source": [
    "test_group_unique_purchases = test_group[test_group['purchase_status'] == 1]['id'].nunique()\n",
    "test_group_unique_purchases"
   ]
  },
  {
   "cell_type": "code",
   "execution_count": 44,
   "metadata": {},
   "outputs": [
    {
     "data": {
      "text/plain": [
       "4.630081300813008"
      ]
     },
     "execution_count": 44,
     "metadata": {},
     "output_type": "execute_result"
    }
   ],
   "source": [
    "test_cr = (test_group_unique_purchases / test_group_unique_users) * 100\n",
    "test_cr"
   ]
  },
  {
   "cell_type": "code",
   "execution_count": 45,
   "metadata": {},
   "outputs": [],
   "source": [
    "test_total_spent = test_group['spent'].sum()"
   ]
  },
  {
   "cell_type": "code",
   "execution_count": 46,
   "metadata": {},
   "outputs": [],
   "source": [
    "test_average_spent = test_group['spent'].mean()"
   ]
  },
  {
   "cell_type": "code",
   "execution_count": 47,
   "metadata": {},
   "outputs": [
    {
     "name": "stdout",
     "output_type": "stream",
     "text": [
      "$3.391\n"
     ]
    }
   ],
   "source": [
    "test_spent_per_user = test_total_spent / num_unique_users_test_group\n",
    "print('${:.3f}'.format(test_spent_per_user))"
   ]
  },
  {
   "cell_type": "code",
   "execution_count": 48,
   "metadata": {},
   "outputs": [],
   "source": [
    "all_groups_total_amount_spent = control_total_spent + test_total_spent"
   ]
  },
  {
   "attachments": {},
   "cell_type": "markdown",
   "metadata": {},
   "source": [
    "# Ratios"
   ]
  },
  {
   "cell_type": "code",
   "execution_count": 49,
   "metadata": {},
   "outputs": [],
   "source": [
    "total_same_day_purchase = control_same_day_purchase + test_same_day_purchase"
   ]
  },
  {
   "cell_type": "code",
   "execution_count": 50,
   "metadata": {},
   "outputs": [],
   "source": [
    "control_group_ratio = (num_unique_users_control_group / total_unique_users) * 100\n",
    "test_group_ratio = (num_unique_users_test_group / total_unique_users) * 100\n",
    "\n",
    "group_users_diff = num_unique_users_test_group - num_unique_users_control_group\n",
    "group_users_diff_ratio = (group_users_diff / total_unique_users) * 100"
   ]
  },
  {
   "cell_type": "code",
   "execution_count": 51,
   "metadata": {},
   "outputs": [],
   "source": [
    "purchase_ratio = (num_users_who_purchased / total_unique_users) * 100 "
   ]
  },
  {
   "cell_type": "code",
   "execution_count": 52,
   "metadata": {},
   "outputs": [
    {
     "data": {
      "text/plain": [
       "165561.22993358204"
      ]
     },
     "execution_count": 52,
     "metadata": {},
     "output_type": "execute_result"
    }
   ],
   "source": [
    "total_spent = all_data['spent'].sum()\n",
    "total_spent"
   ]
  },
  {
   "cell_type": "code",
   "execution_count": 53,
   "metadata": {},
   "outputs": [
    {
     "data": {
      "text/plain": [
       "74.14296011356124"
      ]
     },
     "execution_count": 53,
     "metadata": {},
     "output_type": "execute_result"
    }
   ],
   "source": [
    "all_groups_spent_avg = all_data['spent'].mean()\n",
    "all_groups_spent_avg"
   ]
  },
  {
   "attachments": {},
   "cell_type": "markdown",
   "metadata": {},
   "source": [
    "[Back to top](#top)\n",
    "<a id='summary'></a>"
   ]
  },
  {
   "attachments": {},
   "cell_type": "markdown",
   "metadata": {},
   "source": [
    "# Summary - Users \n"
   ]
  },
  {
   "cell_type": "code",
   "execution_count": 54,
   "metadata": {},
   "outputs": [
    {
     "name": "stdout",
     "output_type": "stream",
     "text": [
      "Total number of unique users                  : 48943\n",
      "Total number of unique users in Control Group : 24343\n",
      "Total number of unique users in Test Group    : 24600\n",
      "Difference in Group                           : 257 users\n",
      "Percent of users in Control Group             : 49.737%\n",
      "Percent of users in Test Group                : 50.263%\n",
      "Difference in Group Ratio                     : 0.525%\n",
      "Average Spend (all groups)                    : $74.143\n"
     ]
    }
   ],
   "source": [
    "print('Total number of unique users                  : {}'.format(total_unique_users))\n",
    "print('Total number of unique users in Control Group : {}'.format(num_unique_users_control_group))\n",
    "print('Total number of unique users in Test Group    : {}'.format(num_unique_users_test_group))\n",
    "print('Difference in Group                           : {} users'.format(group_users_diff))\n",
    "print('Percent of users in Control Group             : {:.3f}%'.format(control_group_ratio))\n",
    "print('Percent of users in Test Group                : {:.3f}%'.format(test_group_ratio))\n",
    "print('Difference in Group Ratio                     : {:.3f}%'.format(group_users_diff_ratio))\n",
    "print('Average Spend (all groups)                    : ${:.3f}'.format(all_groups_spent_avg))\n"
   ]
  },
  {
   "attachments": {},
   "cell_type": "markdown",
   "metadata": {},
   "source": [
    "# Summary - Purchases"
   ]
  },
  {
   "cell_type": "code",
   "execution_count": 55,
   "metadata": {},
   "outputs": [
    {
     "name": "stdout",
     "output_type": "stream",
     "text": [
      "Total number of purchases: 2233\n",
      "Total number of unique users who made a purchase: 2094\n",
      "Total number of unique users who did not make a purchase: 46849\n",
      "Total number of unique users who made a purchase on the same date as Join Date: 1648\n",
      "Total number of unique users who did not make a purchase on the same date as Join Date: 585\n",
      "Total number of unique users who did not make a purchase on the same date as Join Date and had multiple purchases: 16\n",
      "Total number of unique users who made 1 purchase: 1955\n",
      "Total number of unique users who purchased twice: 139\n",
      "Purchase Ratio: 4.278%\n"
     ]
    }
   ],
   "source": [
    "print('Total number of purchases: {}'.format(total_purchases))\n",
    "print('Total number of unique users who made a purchase: {}'.format(num_users_who_purchased))\n",
    "print(\"Total number of unique users who did not make a purchase: {}\".format(non_purchased))\n",
    "print('Total number of unique users who made a purchase on the same date as Join Date: {}'.format(total_same_day_purchase))\n",
    "print('Total number of unique users who did not make a purchase on the same date as Join Date: {}'.format(total_not_same_day_purchase))\n",
    "print('Total number of unique users who did not make a purchase on the same date as Join Date and had multiple purchases: {}'.format(not_same_day_unique_id_multiple_purchase))\n",
    "print('Total number of unique users who made 1 purchase: {}'.format(num_users_who_purchased_one))\n",
    "print('Total number of unique users who purchased twice: {}'.format(num_users_who_purchased_twice))\n",
    "print('Purchase Ratio: {:.3f}%'.format(purchase_ratio))"
   ]
  },
  {
   "attachments": {},
   "cell_type": "markdown",
   "metadata": {},
   "source": [
    "# Summary - Group Purchases"
   ]
  },
  {
   "cell_type": "code",
   "execution_count": 56,
   "metadata": {},
   "outputs": [
    {
     "name": "stdout",
     "output_type": "stream",
     "text": [
      "Total number of purchases                    : 2233\n",
      "Total amount spent                           : $165561.23\n",
      "\n",
      "\n",
      "Control Group\n",
      "Control Group total number of unique users   : 24343\n",
      "Control Group total number of purchases      : 1014\n",
      "Control Group total number of unique purchases: 955\n",
      "Spent:\n",
      "Control Group total amount of spent          : 82145.90\n",
      "Control Group average amount spent           : $81.01\n",
      "Test Group average spent per user            : $3.37\n",
      "Control Group Convertion Rate                : 3.92%\n",
      "\n",
      "\n",
      "Test Group\n",
      "Test Group total number of unique users      : 24600\n",
      "Test Group total number of purchases         : 1219\n",
      "Test Group total number of unique purchases  : 1139\n",
      "Spent:\n",
      "Test Group total amount of spent             : 83415.33\n",
      "Test Group average amount spent              : $68.43\n",
      "Test Group average spent per user            : $3.39\n",
      "Test Group Convertion Rate                   : 4.63%\n"
     ]
    }
   ],
   "source": [
    "print('Total number of purchases                    : {}'.format(total_purchases))\n",
    "print('Total amount spent                           : ${:.2f}'.format(all_groups_total_amount_spent))\n",
    "print('\\n')\n",
    "print('Control Group')\n",
    "print('Control Group total number of unique users   : {}'.format(num_unique_users_control_group))\n",
    "print('Control Group total number of purchases      : {}'.format(control_total_num_purchases))\n",
    "print('Control Group total number of unique purchases: {}'.format(control_group_unique_purchases))\n",
    "print('Spent:')\n",
    "print('Control Group total amount of spent          : {:.2f}'.format(control_total_spent))\n",
    "print('Control Group average amount spent           : ${:.2f}'.format(control_average_spent))\n",
    "print('Test Group average spent per user            : ${:.2f}'.format(control_spent_per_user))\n",
    "print('Control Group Convertion Rate                : {:.2f}%'.format(control_cr))\n",
    "print('\\n')\n",
    "print('Test Group')\n",
    "print('Test Group total number of unique users      : {}'.format(num_unique_users_test_group))\n",
    "print('Test Group total number of purchases         : {}'.format(test_total_num_purchases))\n",
    "print('Test Group total number of unique purchases  : {}'.format(test_group_unique_purchases))\n",
    "print('Spent:')\n",
    "print('Test Group total amount of spent             : {:.2f}'.format(test_total_spent))\n",
    "print('Test Group average amount spent              : ${:.2f}'.format(test_average_spent))\n",
    "print('Test Group average spent per user            : ${:.2f}'.format(test_spent_per_user))\n",
    "print('Test Group Convertion Rate                   : {:.2f}%'.format(test_cr))"
   ]
  },
  {
   "cell_type": "code",
   "execution_count": 57,
   "metadata": {},
   "outputs": [
    {
     "name": "stdout",
     "output_type": "stream",
     "text": [
      "Number of days in trial period: 13 days\n"
     ]
    }
   ],
   "source": [
    "# calculate the number of days between the first and last date\n",
    "join_days = (all_data['joined_date'].max() - all_data['joined_date'].min()).days + 1\n",
    "print(f\"Number of days in trial period: {join_days} days\")"
   ]
  },
  {
   "cell_type": "code",
   "execution_count": 58,
   "metadata": {},
   "outputs": [],
   "source": [
    "all_data.to_csv('./datasets/all_data_final.csv')"
   ]
  },
  {
   "attachments": {},
   "cell_type": "markdown",
   "metadata": {},
   "source": [
    "[Back to top](#top)"
   ]
  },
  {
   "attachments": {},
   "cell_type": "markdown",
   "metadata": {},
   "source": [
    "## Visuals\n",
    "<a id='visuals'></a>"
   ]
  },
  {
   "attachments": {},
   "cell_type": "markdown",
   "metadata": {},
   "source": [
    "### All Data Spent Distribution"
   ]
  },
  {
   "cell_type": "code",
   "execution_count": 59,
   "metadata": {},
   "outputs": [
    {
     "name": "stdout",
     "output_type": "stream",
     "text": [
      "All Data Mean Spent: $ 74.14\n",
      "All Data Median Spent: $ 56.01\n",
      "All Data Max Spent: $ 1659.4\n",
      "All Data Mode Spent: $ 56.01\n",
      "All Data Range of Spent: $ 1659.0600000000002\n",
      "All Data Interquartile range:  56.79\n",
      "All Data Standard deviation:  92.64\n",
      "Number of outliers:  93\n"
     ]
    },
    {
     "data": {
      "image/png": "[encoded data removed]",
      "text/plain": [
       "<Figure size 1872x576 with 3 Axes>"
      ]
     },
     "metadata": {
      "needs_background": "light"
     },
     "output_type": "display_data"
    }
   ],
   "source": [
    "# creating 4 subplots axes[0], axes[1], axes[2] \n",
    "base_color = sns.color_palette()[0]\n",
    "fig, ax = plt.subplots(1,3,figsize=[26, 8])\n",
    "\n",
    "all_spent_mean = np.round(all_data[\"spent\"].mean(), 2)\n",
    "all_spent_min = np.round(all_data[\"spent\"].min(), 2)\n",
    "all_spent_max = np.round(all_data[\"spent\"].max(), 2)\n",
    "\n",
    "# main title:\n",
    "fig.suptitle(\"Spent Distribution\", fontsize=40)\n",
    "\n",
    "# creating a histogram\n",
    "sns.histplot(data=all_data, x=\"spent\", bins=50, kde=True, ax = ax[0], color=base_color);\n",
    "# creating a box plot\n",
    "sns.boxplot(data=all_data, x=\"spent\", ax=ax[1]);\n",
    "# creating a log-scale histogram\n",
    "sns.histplot(data=all_data, x='spent', kde=True, log_scale=True, ax=ax[2]);\n",
    "\n",
    "# titles and labels\n",
    "ax[0].set_title('Spent histogram plot')\n",
    "ax[1].set_title('Spent boxplot')\n",
    "ax[2].set_title('Spent histogram Log-Scale')\n",
    "ax[0].set_xlabel(\"Spent\");\n",
    "ax[1].set_xlabel(\"Spent\");\n",
    "\n",
    "# Measures of central tendency\n",
    "print(\"All Data Mean Spent: $\", np.round(all_spent_mean, 2))\n",
    "print(\"All Data Median Spent: $\", np.round(all_data[\"spent\"].median(), 2))\n",
    "print(\"All Data Max Spent: $\", np.round(all_spent_max, 2))\n",
    "print(\"All Data Mode Spent: $\", all_data[\"spent\"].mode()[0])\n",
    "\n",
    "# Measures of dispersion\n",
    "print(\"All Data Range of Spent: $\", all_spent_max - all_spent_min)\n",
    "print(\"All Data Interquartile range: \", all_data[\"spent\"].quantile(0.75) - all_data[\"spent\"].quantile(0.25))\n",
    "print(\"All Data Standard deviation: \", np.round(all_data[\"spent\"].std(), 2))\n",
    "\n",
    "#Outlier detection\n",
    "spent_q1 = all_data[\"spent\"].quantile(0.25)\n",
    "spent_q3 = all_data[\"spent\"].quantile(0.75)\n",
    "iqr = spent_q3 - spent_q1\n",
    "all_data_outliers = all_data[(all_data[\"spent\"] < (spent_q1 - 1.5 * iqr)) | (all_data[\"spent\"] > (spent_q3 + 1.5 * iqr))]\n",
    "print(\"Number of outliers: \", all_data_outliers.shape[0])\n",
    "\n",
    "ax[0].axvline(all_spent_mean, color=\"red\", linestyle=\"dashed\", linewidth=2)\n",
    "ax[0].axvline(all_spent_min, color=\"blue\", linestyle=\"dashed\", linewidth=1)\n",
    "ax[0].axvline(spent_q3, color=\"blue\", linestyle=\"dashed\", linewidth=1)\n",
    "ax[0].axvline(all_spent_max, color=\"blue\", linestyle=\"dashed\", linewidth=1)\n",
    "\n",
    "ax[0].text(\n",
    "    x=all_spent_mean,\n",
    "    y=700,\n",
    "    s=f\"  Mean={all_spent_mean}\",\n",
    "    style=\"italic\",\n",
    "    color='red'\n",
    ")\n",
    "\n",
    "ax[0].text(\n",
    "    x=all_spent_min,\n",
    "    y=500,\n",
    "    s=f\"  Min={all_spent_min}\",\n",
    "    style=\"italic\",\n",
    "    color='k'\n",
    ")\n",
    "ax[0].text(\n",
    "    x=spent_q3,\n",
    "    y=200,\n",
    "    s=f\"  Q3={spent_q3}\",\n",
    "    style=\"italic\",\n",
    "    color='k'\n",
    ")\n",
    "\n",
    "ax[0].text(\n",
    "    x=all_spent_max,\n",
    "    y=200,\n",
    "    s=f\"  Max={all_spent_max}\",\n",
    "    style=\"italic\",\n",
    "    color='k'\n",
    ")\n",
    "plt.show()"
   ]
  },
  {
   "attachments": {},
   "cell_type": "markdown",
   "metadata": {},
   "source": [
    "## Group Visuals\n",
    "<a id='group_visuals'></a>"
   ]
  },
  {
   "attachments": {},
   "cell_type": "markdown",
   "metadata": {},
   "source": [
    "### Control Group"
   ]
  },
  {
   "cell_type": "code",
   "execution_count": 60,
   "metadata": {},
   "outputs": [
    {
     "name": "stdout",
     "output_type": "stream",
     "text": [
      "Control Group Mean Spent:  81.01\n",
      "Control Group Median Spent:  62.62\n",
      "Control Group Max Spent:  1659.4\n",
      "Control Group Mode Spent:  31.0\n",
      "Control Group Range of Spent:  1658.5800000000002\n",
      "Control Group Interquartile range:  60.13249999999999\n",
      "Control Group Standard deviation:  95.94\n",
      "Number of outliers:  37\n"
     ]
    },
    {
     "data": {
      "image/png": "[encoded data removed]",
      "text/plain": [
       "<Figure size 1872x576 with 3 Axes>"
      ]
     },
     "metadata": {
      "needs_background": "light"
     },
     "output_type": "display_data"
    }
   ],
   "source": [
    "# creating 4 subplots axes[0], axes[1], axes[2] \n",
    "base_color = sns.color_palette()[0]\n",
    "fig, ax = plt.subplots(1,3,figsize=[26, 8])\n",
    "\n",
    "control_spent_mean = np.round(control_group[\"spent\"].mean(), 2)\n",
    "control_spent_min = np.round(control_group[\"spent\"].min(), 2)\n",
    "control_spent_max = np.round(control_group[\"spent\"].max(), 2)\n",
    "\n",
    "# main title:\n",
    "fig.suptitle(\"Control Group Spent Distribution\", fontsize=40)\n",
    "\n",
    "# creating a histogram\n",
    "sns.histplot(data=control_group, x=\"spent\", bins=50, kde=True, ax = ax[0], color=base_color);\n",
    "# creating a box plot\n",
    "sns.boxplot(data=control_group, x=\"spent\", ax=ax[1]);\n",
    "# creating a log-scale histogram\n",
    "sns.histplot(data=control_group, x='spent', kde=True, log_scale=True, ax=ax[2]);\n",
    "\n",
    "# titles and labels\n",
    "ax[0].set_title('Control Spent histogram plot')\n",
    "ax[1].set_title('Control Spent boxplot')\n",
    "ax[2].set_title('Control Spent histogram Log-Scale')\n",
    "ax[0].set_xlabel(\"Spent\");\n",
    "ax[1].set_xlabel(\"Spent\");\n",
    "\n",
    "# Measures of central tendency\n",
    "print(\"Control Group Mean Spent: \", np.round(control_spent_mean, 2))\n",
    "print(\"Control Group Median Spent: \", np.round(control_group[\"spent\"].median(), 2))\n",
    "print(\"Control Group Max Spent: \", np.round(control_spent_max, 2))\n",
    "print(\"Control Group Mode Spent: \", control_group[\"spent\"].mode()[0])\n",
    "\n",
    "# Measures of dispersion\n",
    "print(\"Control Group Range of Spent: \", control_spent_max - control_spent_min)\n",
    "print(\"Control Group Interquartile range: \", control_group[\"spent\"].quantile(0.75) - control_group[\"spent\"].quantile(0.25))\n",
    "print(\"Control Group Standard deviation: \", np.round(control_group[\"spent\"].std(), 2))\n",
    "\n",
    "#Outlier detection\n",
    "control_spent_q1 = control_group[\"spent\"].quantile(0.25)\n",
    "control_spent_q3 = control_group[\"spent\"].quantile(0.75)\n",
    "control_iqr = control_spent_q3 - control_spent_q1\n",
    "control_outliers = control_group[(control_group[\"spent\"] < (control_spent_q1 - 1.5 * control_iqr)) | (control_group[\"spent\"] > (control_spent_q3 + 1.5 * control_iqr))]\n",
    "print(\"Number of outliers: \", control_outliers.shape[0])\n",
    "\n",
    "ax[0].axvline(control_spent_mean, color=\"red\", linestyle=\"dashed\", linewidth=2)\n",
    "ax[0].axvline(control_spent_min, color=\"blue\", linestyle=\"dashed\", linewidth=1)\n",
    "ax[0].axvline(control_spent_q3, color=\"blue\", linestyle=\"dashed\", linewidth=1)\n",
    "ax[0].axvline(control_spent_max, color=\"blue\", linestyle=\"dashed\", linewidth=1)\n",
    "\n",
    "ax[0].text(\n",
    "    x=control_spent_mean,\n",
    "    y=250,\n",
    "    s=f\"  Mean={control_spent_mean}\",\n",
    "    style=\"italic\",\n",
    "    color='red'\n",
    ")\n",
    "\n",
    "ax[0].text(\n",
    "    x=control_spent_min,\n",
    "    y=100,\n",
    "    s=f\"  Min={control_spent_min}\",\n",
    "    style=\"italic\",\n",
    "    color='k'\n",
    ")\n",
    "ax[0].text(\n",
    "    x=control_spent_q3,\n",
    "    y=50,\n",
    "    s=f\"  Q3={control_spent_q3}\",\n",
    "    style=\"italic\",\n",
    "    color='k'\n",
    ")\n",
    "\n",
    "ax[0].text(\n",
    "    x=control_spent_max,\n",
    "    y=200,\n",
    "    s=f\"  Max={control_spent_max}\",\n",
    "    style=\"italic\",\n",
    "    color='k'\n",
    ")\n",
    "plt.show()"
   ]
  },
  {
   "attachments": {},
   "cell_type": "markdown",
   "metadata": {},
   "source": [
    "### Test Group"
   ]
  },
  {
   "cell_type": "code",
   "execution_count": 61,
   "metadata": {},
   "outputs": [
    {
     "name": "stdout",
     "output_type": "stream",
     "text": [
      "Test Group Mean Spent:  68.43\n",
      "Test Group Median Spent:  51.16\n",
      "Test Group Max Spent:  1546.3\n",
      "Test Group Mode Spent:  42.82\n",
      "Test Group Range of Spent:  1545.96\n",
      "Test Group Interquartile range:  51.16740802195446\n",
      "Test Group Standard deviation:  89.44\n",
      "Number of outliers:  58\n"
     ]
    },
    {
     "data": {
      "image/png": "[encoded data removed]",
      "text/plain": [
       "<Figure size 1872x576 with 3 Axes>"
      ]
     },
     "metadata": {
      "needs_background": "light"
     },
     "output_type": "display_data"
    }
   ],
   "source": [
    "# creating 4 subplots axes[0], axes[1], axes[2] \n",
    "base_color = sns.color_palette()[0]\n",
    "fig, ax = plt.subplots(1,3,figsize=[26, 8])\n",
    "\n",
    "test_spent_mean = np.round(test_group[\"spent\"].mean(), 2)\n",
    "test_spent_min = np.round(test_group[\"spent\"].min(), 2)\n",
    "test_spent_max = np.round(test_group[\"spent\"].max(), 2)\n",
    "\n",
    "# main title:\n",
    "fig.suptitle(\"Test Group Spent Distribution\", fontsize=40)\n",
    "\n",
    "# creating a histogram\n",
    "sns.histplot(data=test_group, x=\"spent\", bins=50, kde=True, ax = ax[0], color=base_color);\n",
    "# creating a box plot\n",
    "sns.boxplot(data=test_group, x=\"spent\", ax=ax[1]);\n",
    "# creating a log-scale histogram\n",
    "sns.histplot(data=test_group, x='spent', kde=True, log_scale=True, ax=ax[2]);\n",
    "\n",
    "# titles and labels\n",
    "ax[0].set_title('Test Spent histogram plot')\n",
    "ax[1].set_title('Test Spent boxplot')\n",
    "ax[2].set_title('Test Spent histogram Log-Scale')\n",
    "ax[0].set_xlabel(\"Spent\");\n",
    "ax[1].set_xlabel(\"Spent\");\n",
    "\n",
    "# Measures of central tendency\n",
    "print(\"Test Group Mean Spent: \", np.round(test_spent_mean, 2))\n",
    "print(\"Test Group Median Spent: \", np.round(test_group[\"spent\"].median(), 2))\n",
    "print(\"Test Group Max Spent: \", np.round(test_spent_max, 2))\n",
    "print(\"Test Group Mode Spent: \", test_group[\"spent\"].mode()[0])\n",
    "\n",
    "# Measures of dispersion\n",
    "print(\"Test Group Range of Spent: \", test_spent_max - test_spent_min)\n",
    "print(\"Test Group Interquartile range: \", test_group[\"spent\"].quantile(0.75) - test_group[\"spent\"].quantile(0.25))\n",
    "print(\"Test Group Standard deviation: \", np.round(test_group[\"spent\"].std(), 2))\n",
    "\n",
    "#Outlier detection\n",
    "test_spent_q1 = test_group[\"spent\"].quantile(0.25)\n",
    "test_spent_q3 = test_group[\"spent\"].quantile(0.75)\n",
    "test_iqr = test_spent_q3 - test_spent_q1\n",
    "test_outliers = test_group[(test_group[\"spent\"] < (test_spent_q1 - 1.5 * test_iqr)) | (test_group[\"spent\"] > (test_spent_q3 + 1.5 * test_iqr))]\n",
    "print(\"Number of outliers: \", test_outliers.shape[0])\n",
    "\n",
    "ax[0].axvline(test_spent_mean, color=\"red\", linestyle=\"dashed\", linewidth=2)\n",
    "ax[0].axvline(test_spent_min, color=\"blue\", linestyle=\"dashed\", linewidth=1)\n",
    "ax[0].axvline(test_spent_q3, color=\"blue\", linestyle=\"dashed\", linewidth=1)\n",
    "ax[0].axvline(test_spent_max, color=\"blue\", linestyle=\"dashed\", linewidth=1)\n",
    "\n",
    "\n",
    "ax[0].text(\n",
    "    x=test_spent_mean,\n",
    "    y=250,\n",
    "    s=f\"  Mean={test_spent_mean}\",\n",
    "    style=\"italic\",\n",
    "    color='red'\n",
    ")\n",
    "\n",
    "ax[0].text(\n",
    "    x=test_spent_min,\n",
    "    y=100,\n",
    "    s=f\"  Min={test_spent_min}\",\n",
    "    style=\"italic\",\n",
    "    color='k'\n",
    ")\n",
    "ax[0].text(\n",
    "    x=test_spent_q3,\n",
    "    y=50,\n",
    "    s=f\"  Q3={test_spent_q3}\",\n",
    "    style=\"italic\",\n",
    "    color='k'\n",
    ")\n",
    "\n",
    "ax[0].text(\n",
    "    x=test_spent_max,\n",
    "    y=200,\n",
    "    s=f\"  Max={test_spent_max}\",\n",
    "    style=\"italic\",\n",
    "    color='k'\n",
    ")\n",
    "plt.show()"
   ]
  },
  {
   "attachments": {},
   "cell_type": "markdown",
   "metadata": {},
   "source": [
    "Additional Visuals can be found here: https://public.tableau.com/app/profile/lex.romo/viz/MasteryProject1_2_0/Story?publish=yes\n",
    "\n"
   ]
  },
  {
   "cell_type": "code",
   "execution_count": null,
   "metadata": {},
   "outputs": [],
   "source": []
  }
 ],
 "metadata": {
  "kernelspec": {
   "display_name": "base",
   "language": "python",
   "name": "python3"
  },
  "language_info": {
   "codemirror_mode": {
    "name": "ipython",
    "version": 3
   },
   "file_extension": ".py",
   "mimetype": "text/x-python",
   "name": "python",
   "nbconvert_exporter": "python",
   "pygments_lexer": "ipython3",
   "version": "3.9.13"
  },
  "orig_nbformat": 4
 },
 "nbformat": 4,
 "nbformat_minor": 2
}
