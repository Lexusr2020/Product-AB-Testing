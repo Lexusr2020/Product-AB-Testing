{
 "cells": [
  {
   "cell_type": "code",
   "execution_count": 1,
   "metadata": {},
   "outputs": [],
   "source": [
    "import pandas as pd\n",
    "import numpy as np\n",
    "import matplotlib.pyplot as plt\n",
    "import seaborn as sns\n",
    "from statsmodels.stats.weightstats import DescrStatsW, CompareMeans, ttest_ind\n",
    "from scipy.stats import ttest_ind\n",
    "from scipy import stats\n",
    "import numpy as np\n",
    "import random\n",
    "import math\n",
    "import sys, os"
   ]
  },
  {
   "cell_type": "code",
   "execution_count": 2,
   "metadata": {},
   "outputs": [
    {
     "data": {
      "text/html": [
       "<div>\n",
       "<style scoped>\n",
       "    .dataframe tbody tr th:only-of-type {\n",
       "        vertical-align: middle;\n",
       "    }\n",
       "\n",
       "    .dataframe tbody tr th {\n",
       "        vertical-align: top;\n",
       "    }\n",
       "\n",
       "    .dataframe thead th {\n",
       "        text-align: right;\n",
       "    }\n",
       "</style>\n",
       "<table border=\"1\" class=\"dataframe\">\n",
       "  <thead>\n",
       "    <tr style=\"text-align: right;\">\n",
       "      <th></th>\n",
       "      <th>Unnamed: 0</th>\n",
       "      <th>id</th>\n",
       "      <th>joined_date</th>\n",
       "      <th>group</th>\n",
       "      <th>gender</th>\n",
       "      <th>country</th>\n",
       "      <th>device</th>\n",
       "      <th>purchase_date</th>\n",
       "      <th>spent</th>\n",
       "      <th>purchase_status</th>\n",
       "      <th>duplicates</th>\n",
       "    </tr>\n",
       "  </thead>\n",
       "  <tbody>\n",
       "    <tr>\n",
       "      <th>0</th>\n",
       "      <td>0</td>\n",
       "      <td>1000000</td>\n",
       "      <td>2023-01-28</td>\n",
       "      <td>Test_Group</td>\n",
       "      <td>M</td>\n",
       "      <td>CAN</td>\n",
       "      <td>iOS</td>\n",
       "      <td>NaN</td>\n",
       "      <td>NaN</td>\n",
       "      <td>0</td>\n",
       "      <td>False</td>\n",
       "    </tr>\n",
       "    <tr>\n",
       "      <th>1</th>\n",
       "      <td>1</td>\n",
       "      <td>1000001</td>\n",
       "      <td>2023-01-27</td>\n",
       "      <td>Control_Group</td>\n",
       "      <td>M</td>\n",
       "      <td>BRA</td>\n",
       "      <td>Android</td>\n",
       "      <td>NaN</td>\n",
       "      <td>NaN</td>\n",
       "      <td>0</td>\n",
       "      <td>False</td>\n",
       "    </tr>\n",
       "    <tr>\n",
       "      <th>2</th>\n",
       "      <td>2</td>\n",
       "      <td>1000002</td>\n",
       "      <td>2023-02-01</td>\n",
       "      <td>Control_Group</td>\n",
       "      <td>M</td>\n",
       "      <td>FRA</td>\n",
       "      <td>Android</td>\n",
       "      <td>NaN</td>\n",
       "      <td>NaN</td>\n",
       "      <td>0</td>\n",
       "      <td>False</td>\n",
       "    </tr>\n",
       "    <tr>\n",
       "      <th>3</th>\n",
       "      <td>3</td>\n",
       "      <td>1000003</td>\n",
       "      <td>2023-01-25</td>\n",
       "      <td>Test_Group</td>\n",
       "      <td>M</td>\n",
       "      <td>BRA</td>\n",
       "      <td>iOS</td>\n",
       "      <td>NaN</td>\n",
       "      <td>NaN</td>\n",
       "      <td>0</td>\n",
       "      <td>False</td>\n",
       "    </tr>\n",
       "    <tr>\n",
       "      <th>4</th>\n",
       "      <td>4</td>\n",
       "      <td>1000004</td>\n",
       "      <td>2023-02-04</td>\n",
       "      <td>Control_Group</td>\n",
       "      <td>F</td>\n",
       "      <td>DEU</td>\n",
       "      <td>Android</td>\n",
       "      <td>NaN</td>\n",
       "      <td>NaN</td>\n",
       "      <td>0</td>\n",
       "      <td>False</td>\n",
       "    </tr>\n",
       "  </tbody>\n",
       "</table>\n",
       "</div>"
      ],
      "text/plain": [
       "   Unnamed: 0       id joined_date          group gender country   device  \\\n",
       "0           0  1000000  2023-01-28     Test_Group      M     CAN      iOS   \n",
       "1           1  1000001  2023-01-27  Control_Group      M     BRA  Android   \n",
       "2           2  1000002  2023-02-01  Control_Group      M     FRA  Android   \n",
       "3           3  1000003  2023-01-25     Test_Group      M     BRA      iOS   \n",
       "4           4  1000004  2023-02-04  Control_Group      F     DEU  Android   \n",
       "\n",
       "  purchase_date  spent  purchase_status  duplicates  \n",
       "0           NaN    NaN                0       False  \n",
       "1           NaN    NaN                0       False  \n",
       "2           NaN    NaN                0       False  \n",
       "3           NaN    NaN                0       False  \n",
       "4           NaN    NaN                0       False  "
      ]
     },
     "execution_count": 2,
     "metadata": {},
     "output_type": "execute_result"
    }
   ],
   "source": [
    "all_data = pd.read_csv('./datasets/all_data_final.csv')\n",
    "all_data.head()"
   ]
  },
  {
   "cell_type": "code",
   "execution_count": 3,
   "metadata": {},
   "outputs": [],
   "source": [
    "all_data['spent'] = all_data['spent'].fillna(0)"
   ]
  },
  {
   "cell_type": "code",
   "execution_count": 4,
   "metadata": {},
   "outputs": [],
   "source": [
    "control_group = all_data[all_data['group'] == 'Control_Group']\n",
    "test_group = all_data[all_data['group'] == 'Test_Group']"
   ]
  },
  {
   "attachments": {},
   "cell_type": "markdown",
   "metadata": {},
   "source": [
    "How many users in the control group were in Canada?\n",
    "Your answer: 767"
   ]
  },
  {
   "cell_type": "code",
   "execution_count": 5,
   "metadata": {},
   "outputs": [
    {
     "data": {
      "text/plain": [
       "767"
      ]
     },
     "execution_count": 5,
     "metadata": {},
     "output_type": "execute_result"
    }
   ],
   "source": [
    "control_canada_users = control_group[control_group['country'] == 'CAN']['id'].nunique()\n",
    "control_canada_users"
   ]
  },
  {
   "attachments": {},
   "cell_type": "markdown",
   "metadata": {},
   "source": [
    "What was the conversion rate of all users?\n",
    "Your answer: 4.28%"
   ]
  },
  {
   "cell_type": "code",
   "execution_count": 6,
   "metadata": {},
   "outputs": [
    {
     "data": {
      "text/plain": [
       "48943"
      ]
     },
     "execution_count": 6,
     "metadata": {},
     "output_type": "execute_result"
    }
   ],
   "source": [
    "total_unique_users = all_data['id'].nunique()\n",
    "total_unique_users"
   ]
  },
  {
   "cell_type": "code",
   "execution_count": 7,
   "metadata": {},
   "outputs": [
    {
     "data": {
      "text/plain": [
       "2094"
      ]
     },
     "execution_count": 7,
     "metadata": {},
     "output_type": "execute_result"
    }
   ],
   "source": [
    "num_users_who_purchased = all_data[all_data['purchase_status'] == 1]['id'].nunique()\n",
    "num_users_who_purchased"
   ]
  },
  {
   "cell_type": "code",
   "execution_count": 8,
   "metadata": {},
   "outputs": [
    {
     "data": {
      "text/plain": [
       "4.2784463559651025"
      ]
     },
     "execution_count": 8,
     "metadata": {},
     "output_type": "execute_result"
    }
   ],
   "source": [
    "purchase_ratio = (num_users_who_purchased / total_unique_users) * 100 \n",
    "purchase_ratio"
   ]
  },
  {
   "attachments": {},
   "cell_type": "markdown",
   "metadata": {},
   "source": [
    "What is the average amount spent per user for the control and treatment groups?"
   ]
  },
  {
   "cell_type": "code",
   "execution_count": 9,
   "metadata": {},
   "outputs": [
    {
     "data": {
      "text/plain": [
       "24343"
      ]
     },
     "execution_count": 9,
     "metadata": {},
     "output_type": "execute_result"
    }
   ],
   "source": [
    "control_group_unique_users = control_group['id'].nunique()\n",
    "control_group_unique_users"
   ]
  },
  {
   "cell_type": "code",
   "execution_count": 10,
   "metadata": {},
   "outputs": [
    {
     "data": {
      "text/plain": [
       "82145.90306479178"
      ]
     },
     "execution_count": 10,
     "metadata": {},
     "output_type": "execute_result"
    }
   ],
   "source": [
    "control_total_spent = control_group['spent'].sum()\n",
    "control_total_spent"
   ]
  },
  {
   "cell_type": "code",
   "execution_count": 11,
   "metadata": {},
   "outputs": [
    {
     "name": "stdout",
     "output_type": "stream",
     "text": [
      "$3.375\n"
     ]
    }
   ],
   "source": [
    "control_spent_per_user = control_total_spent / control_group_unique_users\n",
    "print('${:.3f}'.format(control_spent_per_user))"
   ]
  },
  {
   "cell_type": "code",
   "execution_count": 12,
   "metadata": {},
   "outputs": [
    {
     "data": {
      "text/plain": [
       "24600"
      ]
     },
     "execution_count": 12,
     "metadata": {},
     "output_type": "execute_result"
    }
   ],
   "source": [
    "test_group_unique_users = test_group['id'].nunique()\n",
    "test_group_unique_users"
   ]
  },
  {
   "cell_type": "code",
   "execution_count": 13,
   "metadata": {},
   "outputs": [
    {
     "data": {
      "text/plain": [
       "83415.32686879027"
      ]
     },
     "execution_count": 13,
     "metadata": {},
     "output_type": "execute_result"
    }
   ],
   "source": [
    "test_total_spent = test_group['spent'].sum()\n",
    "test_total_spent"
   ]
  },
  {
   "cell_type": "code",
   "execution_count": 14,
   "metadata": {},
   "outputs": [
    {
     "name": "stdout",
     "output_type": "stream",
     "text": [
      "$3.391\n"
     ]
    }
   ],
   "source": [
    "test_spent_per_user = test_total_spent / test_group_unique_users\n",
    "print('${:.3f}'.format(test_spent_per_user))"
   ]
  },
  {
   "attachments": {},
   "cell_type": "markdown",
   "metadata": {},
   "source": [
    "What is the 95% confidence interval for the average amount spent per user in the control?\n",
    "Use the t distribution."
   ]
  },
  {
   "cell_type": "code",
   "execution_count": 15,
   "metadata": {},
   "outputs": [
    {
     "name": "stdout",
     "output_type": "stream",
     "text": [
      "95% confidence interval for the average amount spent per user in the control group:\n",
      "Control Sample Mean                  : 3.366359440406188\n",
      "Control Sample STD                   : 25.366938888172534\n",
      "Number of samples in Control Group   : 24402\n",
      "T_Value                              : 1.9600612095269816\n",
      "Standard Error of Mean               : 0.16238853030324027\n",
      "Standard Error of Mean               : 0.31829145911947804\n",
      "Lower bound                          : 3.048\n",
      "Upper bound                          : 3.685\n",
      "The 95% confidence interval for the average amount spent per user in the control is (3.048, 3.685)\n"
     ]
    }
   ],
   "source": [
    "# calculate sample mean and standard deviation for control group\n",
    "control_mean = all_data[all_data['group'] == 'Control_Group']['spent'].mean()\n",
    "control_std = all_data[all_data['group'] == 'Control_Group']['spent'].std()\n",
    "\n",
    "# determine sample size for control group\n",
    "n = len(control_group)\n",
    "\n",
    "# calculate t-value for 95% confidence interval with n-1 degrees of freedom\n",
    "t_value = stats.t.ppf(0.975, df= n-1)\n",
    "\n",
    "# calculate standard error of the mean\n",
    "standard_error = control_std / np.sqrt(n)\n",
    "\n",
    "# calculate margin of error\n",
    "margin_of_error = t_value * standard_error\n",
    "\n",
    "# calculate lower and upper bounds of the confidence interval\n",
    "lower_bound = control_mean - margin_of_error\n",
    "upper_bound = control_mean + margin_of_error\n",
    "\n",
    "print(\"95% confidence interval for the average amount spent per user in the control group:\")\n",
    "print(\"Control Sample Mean                  :\", control_mean)\n",
    "print(\"Control Sample STD                   :\", control_std)\n",
    "print(\"Number of samples in Control Group   :\", n)\n",
    "print(\"T_Value                              :\", t_value)\n",
    "print(\"Standard Error of Mean               :\", standard_error)\n",
    "print(\"Standard Error of Mean               :\", margin_of_error)\n",
    "print(\"Lower bound                          :\", round(lower_bound, 3))\n",
    "print(\"Upper bound                          :\", round(upper_bound, 3))\n",
    "\n",
    "print(f\"The 95% confidence interval for the average amount spent per user in the control is ({lower_bound:.3f}, {upper_bound:.3f})\")"
   ]
  },
  {
   "attachments": {},
   "cell_type": "markdown",
   "metadata": {},
   "source": [
    "What is the 95% confidence interval for the average amount spent per user in the treatment?\n",
    "Use the t distribution."
   ]
  },
  {
   "cell_type": "code",
   "execution_count": 16,
   "metadata": {},
   "outputs": [
    {
     "name": "stdout",
     "output_type": "stream",
     "text": [
      "95% confidence interval for the average amount spent per user in the control group:\n",
      "Control Sample Mean                  : 3.379875480907226\n",
      "Control Sample STD                   : 24.79278198036443\n",
      "Number of samples in Control Group   : 24680\n",
      "T_Value                              : 1.9600601142699023\n",
      "Standard Error of Mean               : 0.15781660035844983\n",
      "Standard Error of Mean               : 0.3093300237322707\n",
      "Lower bound                          : 3.071\n",
      "Upper bound                          : 3.689\n",
      "The 95% confidence interval for the average amount spent per user in the control is (3.071, 3.689)\n"
     ]
    }
   ],
   "source": [
    "# calculate sample mean and standard deviation for control group\n",
    "test_mean = all_data[all_data['group'] == 'Test_Group']['spent'].mean()\n",
    "test_std = all_data[all_data['group'] == 'Test_Group']['spent'].std()\n",
    "\n",
    "# determine sample size for control group\n",
    "n = test_group[test_group['group'] == 'Test_Group']['spent'].shape[0]\n",
    "\n",
    "# calculate t-value for 95% confidence interval with n-1 degrees of freedom\n",
    "t_value = stats.t.ppf(0.975, df= n-1)\n",
    "\n",
    "# calculate standard error of the mean\n",
    "standard_error = test_std / np.sqrt(n)\n",
    "\n",
    "# calculate margin of error\n",
    "margin_of_error = t_value * standard_error\n",
    "\n",
    "# calculate lower and upper bounds of the confidence interval\n",
    "lower_bound = test_mean - margin_of_error\n",
    "upper_bound = test_mean + margin_of_error\n",
    "\n",
    "print(\"95% confidence interval for the average amount spent per user in the control group:\")\n",
    "print(\"Control Sample Mean                  :\", test_mean)\n",
    "print(\"Control Sample STD                   :\", test_std)\n",
    "print(\"Number of samples in Control Group   :\", n)\n",
    "print(\"T_Value                              :\", t_value)\n",
    "print(\"Standard Error of Mean               :\", standard_error)\n",
    "print(\"Standard Error of Mean               :\", margin_of_error)\n",
    "print(\"Lower bound                          :\", round(lower_bound, 3))\n",
    "print(\"Upper bound                          :\", round(upper_bound, 3))\n",
    "\n",
    "print(f\"The 95% confidence interval for the average amount spent per user in the control is ({lower_bound:.3f}, {upper_bound:.3f})\")"
   ]
  },
  {
   "attachments": {},
   "cell_type": "markdown",
   "metadata": {},
   "source": [
    "Conduct a hypothesis test to see whether there is a difference in the average amount spent per user between the two groups. What are the resulting p-value and conclusion?\n",
    "Use the t distribution and a 5% significance level. Assume unequal variance.\n"
   ]
  },
  {
   "cell_type": "code",
   "execution_count": 17,
   "metadata": {},
   "outputs": [
    {
     "name": "stdout",
     "output_type": "stream",
     "text": [
      "t-statistic: -0.05968867409877323\n",
      "p-value: 0.952403835429267\n",
      "Fail to reject null hypothesis - there is not enough evidence to say that the test group performs significantly different than the control group.\n",
      "\n"
     ]
    }
   ],
   "source": [
    "# Define the two groups\n",
    "control = all_data[all_data['group'] == 'Control_Group']['spent']\n",
    "test = all_data[all_data['group'] == 'Test_Group']['spent']\n",
    "\n",
    "# Calculate the sample statistics\n",
    "mean1 = control.mean()\n",
    "mean2 = test.mean()\n",
    "std1 = control.std()\n",
    "std2 = test.std()\n",
    "n1 = len(control)\n",
    "n2 = len(test)\n",
    "alpha = 0.05\n",
    "\n",
    "# Calculate the t-statistic and p-value\n",
    "standard_error = ((std1**2)/n1 + (std2**2)/n2)**0.5\n",
    "t_stat = (mean1 - mean2) / standard_error\n",
    "df = n1 + n2 - 2\n",
    "p_value = stats.t.sf(abs(t_stat), df) * 2\n",
    "\n",
    "# Print the results\n",
    "print('t-statistic:', t_stat)\n",
    "print('p-value:', p_value)\n",
    "\n",
    "if p_value < alpha:\n",
    "    print(\"Reject null hypothesis - there is a statistically significant difference between the control and test groups.\\n\")\n",
    "else:\n",
    "    print(\"Fail to reject null hypothesis - there is not enough evidence to say that the test group performs significantly different than the control group.\\n\")"
   ]
  },
  {
   "attachments": {},
   "cell_type": "markdown",
   "metadata": {},
   "source": [
    "What is the 95% confidence interval for the difference in the average amount spent per user between the treatment and the control (treatment-control)?\n",
    "Use the t distribution and assume unequal variance.\n",
    "\n"
   ]
  },
  {
   "cell_type": "code",
   "execution_count": 18,
   "metadata": {},
   "outputs": [
    {
     "name": "stdout",
     "output_type": "stream",
     "text": [
      "95% Confidence Interval: [-0.425, 0.452]\n"
     ]
    }
   ],
   "source": [
    "control_mean = control_group['spent'].mean()\n",
    "control_std = test_group['spent'].std()\n",
    "\n",
    "test_mean = test_group['spent'].mean()\n",
    "test_std = test_group['spent'].std()\n",
    "\n",
    "\n",
    "n_control = len(control_group)\n",
    "n_test = len(test_group)\n",
    "\n",
    "SE_diff = np.sqrt((control_std ** 2 / n_control) + (test_std ** 2 / n_test))\n",
    "df = n_control + n_test - 2\n",
    "alpha = 0.05 / 2 # two-tailed test\n",
    "t_crit = stats.t.ppf(1 - alpha, df) #(df)=degrees of freedom\n",
    "diff_mean = test_mean - control_mean\n",
    "lower_ci = diff_mean - t_crit * SE_diff\n",
    "upper_ci = diff_mean + t_crit * SE_diff\n",
    "\n",
    "print(\"95% Confidence Interval: [{:.3f}, {:.3f}]\".format(lower_ci, upper_ci))"
   ]
  },
  {
   "attachments": {},
   "cell_type": "markdown",
   "metadata": {},
   "source": [
    "What is the user conversion rate for the control and treatment groups?\n"
   ]
  },
  {
   "cell_type": "code",
   "execution_count": 19,
   "metadata": {},
   "outputs": [
    {
     "data": {
      "text/plain": [
       "955"
      ]
     },
     "execution_count": 19,
     "metadata": {},
     "output_type": "execute_result"
    }
   ],
   "source": [
    "control_group_unique_purchases = control_group[control_group['purchase_status'] == 1]['id'].nunique()\n",
    "control_group_unique_purchases"
   ]
  },
  {
   "cell_type": "code",
   "execution_count": 20,
   "metadata": {},
   "outputs": [
    {
     "data": {
      "text/plain": [
       "24343"
      ]
     },
     "execution_count": 20,
     "metadata": {},
     "output_type": "execute_result"
    }
   ],
   "source": [
    "control_group_unique_users"
   ]
  },
  {
   "cell_type": "code",
   "execution_count": 21,
   "metadata": {},
   "outputs": [
    {
     "name": "stdout",
     "output_type": "stream",
     "text": [
      "3.92%\n"
     ]
    }
   ],
   "source": [
    "control_cr = (control_group_unique_purchases / control_group_unique_users) * 100\n",
    "print('{:.2f}%'.format(control_cr))"
   ]
  },
  {
   "cell_type": "code",
   "execution_count": 22,
   "metadata": {},
   "outputs": [
    {
     "data": {
      "text/plain": [
       "1139"
      ]
     },
     "execution_count": 22,
     "metadata": {},
     "output_type": "execute_result"
    }
   ],
   "source": [
    "test_group_unique_purchases = test_group[test_group['purchase_status'] == 1]['id'].nunique()\n",
    "test_group_unique_purchases"
   ]
  },
  {
   "cell_type": "code",
   "execution_count": 23,
   "metadata": {},
   "outputs": [
    {
     "data": {
      "text/plain": [
       "24600"
      ]
     },
     "execution_count": 23,
     "metadata": {},
     "output_type": "execute_result"
    }
   ],
   "source": [
    "test_group_unique_users"
   ]
  },
  {
   "cell_type": "code",
   "execution_count": 24,
   "metadata": {},
   "outputs": [
    {
     "data": {
      "text/plain": [
       "24680"
      ]
     },
     "execution_count": 24,
     "metadata": {},
     "output_type": "execute_result"
    }
   ],
   "source": [
    "test_users = test_group['id'].count()\n",
    "\n",
    "test_users"
   ]
  },
  {
   "cell_type": "code",
   "execution_count": 25,
   "metadata": {},
   "outputs": [
    {
     "name": "stdout",
     "output_type": "stream",
     "text": [
      "4.63%\n"
     ]
    }
   ],
   "source": [
    "test_cr = (test_group_unique_purchases / test_group_unique_users) * 100\n",
    "print('{:.2f}%'.format(test_cr))"
   ]
  },
  {
   "attachments": {},
   "cell_type": "markdown",
   "metadata": {},
   "source": [
    "\n",
    "What is the 95% confidence interval for the conversion rate of users in the control?\n",
    "Use the normal distribution.\n"
   ]
  },
  {
   "cell_type": "code",
   "execution_count": 26,
   "metadata": {},
   "outputs": [
    {
     "data": {
      "text/plain": [
       "(0.03679504536731868, 0.041666935489601174)"
      ]
     },
     "execution_count": 26,
     "metadata": {},
     "output_type": "execute_result"
    }
   ],
   "source": [
    "# Control Group\n",
    "p = control_cr /100\n",
    "n = len(control_group)\n",
    "SE = math.sqrt(p * (1-p) / n)\n",
    "z = 1.96\n",
    "#z = stats.norm.ppf(0.975)\n",
    "MOE = z * SE\n",
    "MOE\n",
    "lower = p - MOE\n",
    "upper = p + MOE\n",
    "(lower, upper)"
   ]
  },
  {
   "attachments": {},
   "cell_type": "markdown",
   "metadata": {},
   "source": [
    "What is the 95% confidence interval for the conversion rate of users in the treatment?\n",
    "Use the normal distribution.\n",
    "\n"
   ]
  },
  {
   "cell_type": "code",
   "execution_count": 27,
   "metadata": {},
   "outputs": [
    {
     "data": {
      "text/plain": [
       "(0.043679109903455915, 0.04892251611280424)"
      ]
     },
     "execution_count": 27,
     "metadata": {},
     "output_type": "execute_result"
    }
   ],
   "source": [
    "# Test Group\n",
    "p = test_cr/100\n",
    "n = len(test_group)\n",
    "se = math.sqrt(p * (1-p) / n)\n",
    "z = 1.96\n",
    "MOE = z * se\n",
    "MOE\n",
    "lower = p - MOE\n",
    "upper = p + MOE\n",
    "(lower, upper)"
   ]
  },
  {
   "attachments": {},
   "cell_type": "markdown",
   "metadata": {},
   "source": [
    "Conduct a hypothesis test to see whether there is a difference in the conversion rate between the two groups. What are the resulting p-value and conclusion?\n",
    "Use the normal distribution and a 5% significance level. Use the pooled proportion for the standard error.\n"
   ]
  },
  {
   "cell_type": "code",
   "execution_count": 28,
   "metadata": {},
   "outputs": [
    {
     "name": "stdout",
     "output_type": "stream",
     "text": [
      "Reject null hypothesis. There is a statistically significant difference in conversion rates between the two groups. 0.00012067991202461893\n"
     ]
    }
   ],
   "source": [
    "# Sample data\n",
    "control_users = len(control_group)\n",
    "control_conversions = control_group_unique_purchases\n",
    "treatment_users = len(test_group)\n",
    "treatment_conversions = test_group_unique_purchases\n",
    "\n",
    "# Calculate proportions\n",
    "control_proportion = control_conversions / control_users\n",
    "treatment_proportion = treatment_conversions / treatment_users\n",
    "\n",
    "# Calculate pooled proportion\n",
    "pooled_proportion = (control_conversions + treatment_conversions) / (control_users + treatment_users)\n",
    "\n",
    "# Calculate standard error\n",
    "standard_error = math.sqrt(pooled_proportion * (1 - pooled_proportion) * (1/control_users + 1/treatment_users))\n",
    "\n",
    "# Calculate test statistic\n",
    "test_statistic = (treatment_proportion - control_proportion) / standard_error\n",
    "\n",
    "# Calculate p-value\n",
    "p_value = stats.norm.sf(abs(test_statistic)) * 2\n",
    "\n",
    "# Set alpha\n",
    "alpha = 0.05\n",
    "\n",
    "# Compare p-value to alpha\n",
    "if p_value < alpha:\n",
    "    print(\"Reject null hypothesis. There is a statistically significant difference in conversion rates between the two groups.\", p_value)\n",
    "else:\n",
    "    print(\"Fail to reject null hypothesis. There is not enough evidence to support a difference in conversion rates between the two groups.\", p_value)"
   ]
  },
  {
   "attachments": {},
   "cell_type": "markdown",
   "metadata": {},
   "source": [
    "What is the 95% confidence interval for the difference in the conversion rate between the treatment and control (treatment-control)?\n",
    "Use the normal distribution and unpooled proportions for the standard error.\n",
    "\n"
   ]
  },
  {
   "cell_type": "code",
   "execution_count": 29,
   "metadata": {},
   "outputs": [
    {
     "name": "stdout",
     "output_type": "stream",
     "text": [
      "95% confidence interval for the difference in conversion rates: [0.0035, 0.0106]\n"
     ]
    }
   ],
   "source": [
    "# Sample sizes and conversion rates for control and treatment groups\n",
    "control_size = len(control_group)\n",
    "test_size = len(test_group)\n",
    "control_cr_p = control_cr/100\n",
    "test_cr_p = test_cr/100\n",
    "\n",
    "# Calculate standard error using unpooled proportions formula\n",
    "standard_error = math.sqrt((control_cr_p*(1-control_cr_p))/control_size + (test_cr_p*(1-test_cr_p))/test_size)\n",
    "\n",
    "# Calculate point estimate of the difference in conversion rates\n",
    "point_estimate = test_cr_p - control_cr_p\n",
    "\n",
    "# Calculate margin of error\n",
    "z = stats.norm.ppf(0.975)\n",
    "margin_of_error = z * standard_error\n",
    "\n",
    "# Calculate lower and upper bounds of the confidence interval\n",
    "lower_bound = point_estimate - margin_of_error\n",
    "upper_bound = point_estimate + margin_of_error\n",
    "\n",
    "print(\"95% confidence interval for the difference in conversion rates: [{:.4f}, {:.4f}]\".format(lower_bound, upper_bound))\n"
   ]
  }
 ],
 "metadata": {
  "kernelspec": {
   "display_name": "base",
   "language": "python",
   "name": "python3"
  },
  "language_info": {
   "codemirror_mode": {
    "name": "ipython",
    "version": 3
   },
   "file_extension": ".py",
   "mimetype": "text/x-python",
   "name": "python",
   "nbconvert_exporter": "python",
   "pygments_lexer": "ipython3",
   "version": "3.9.13"
  },
  "orig_nbformat": 4
 },
 "nbformat": 4,
 "nbformat_minor": 2
}
